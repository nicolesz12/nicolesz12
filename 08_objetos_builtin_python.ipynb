{
  "nbformat": 4,
  "nbformat_minor": 0,
  "metadata": {
    "colab": {
      "provenance": [],
      "authorship_tag": "ABX9TyMXqGsWhACIO3Z8m9XmhEKy",
      "include_colab_link": true
    },
    "kernelspec": {
      "name": "python3",
      "display_name": "Python 3"
    },
    "language_info": {
      "name": "python"
    }
  },
  "cells": [
    {
      "cell_type": "markdown",
      "metadata": {
        "id": "view-in-github",
        "colab_type": "text"
      },
      "source": [
        "<a href=\"https://colab.research.google.com/github/nicolesz12/nicolesz12/blob/main/08_objetos_builtin_python.ipynb\" target=\"_parent\"><img src=\"https://colab.research.google.com/assets/colab-badge.svg\" alt=\"Open In Colab\"/></a>"
      ]
    },
    {
      "cell_type": "code",
      "execution_count": 1,
      "metadata": {
        "colab": {
          "base_uri": "https://localhost:8080/"
        },
        "id": "L8fgD5eZzLTE",
        "outputId": "f4a85e51-26f6-467a-f73a-73029f61e569"
      },
      "outputs": [
        {
          "output_type": "stream",
          "name": "stdout",
          "text": [
            "4\n",
            "<class 'str'>\n",
            "['__add__', '__class__', '__contains__', '__delattr__', '__dir__', '__doc__', '__eq__', '__format__', '__ge__', '__getattribute__', '__getitem__', '__getnewargs__', '__gt__', '__hash__', '__init__', '__init_subclass__', '__iter__', '__le__', '__len__', '__lt__', '__mod__', '__mul__', '__ne__', '__new__', '__reduce__', '__reduce_ex__', '__repr__', '__rmod__', '__rmul__', '__setattr__', '__sizeof__', '__str__', '__subclasshook__', 'capitalize', 'casefold', 'center', 'count', 'encode', 'endswith', 'expandtabs', 'find', 'format', 'format_map', 'index', 'isalnum', 'isalpha', 'isascii', 'isdecimal', 'isdigit', 'isidentifier', 'islower', 'isnumeric', 'isprintable', 'isspace', 'istitle', 'isupper', 'join', 'ljust', 'lower', 'lstrip', 'maketrans', 'partition', 'removeprefix', 'removesuffix', 'replace', 'rfind', 'rindex', 'rjust', 'rpartition', 'rsplit', 'rstrip', 'split', 'splitlines', 'startswith', 'strip', 'swapcase', 'title', 'translate', 'upper', 'zfill']\n"
          ]
        }
      ],
      "source": [
        "#Exemplo de uso de objetos built-in do Python\n",
        "s = 'spam'\n",
        "\n",
        "#tamanho de s\n",
        "print(len(s))\n",
        "\n",
        "#Tipo de classe de\n",
        "print(type(s))\n",
        "\n",
        "#atributos de objeto disponíveis para s\n",
        "print(dir(s))\n",
        ""
      ]
    },
    {
      "cell_type": "code",
      "source": [
        "#testando o atributo isnumeric\n",
        "print(s.isnumeric())\n",
        "print(s.isascii())\n",
        "print(s.isdecimal())\n",
        "print(s.isprintable())\n",
        "\n",
        "print(s[0])\n",
        "print(s[1:3])\n",
        "#tres primeiros caracteres\n",
        "print(s[:3])\n",
        "print(s[:2])\n",
        "\n",
        "#adicionar o sufixo xyz\n",
        "print(s + 'xyz')\n",
        "\n",
        "#buscar o trecho com pa\n",
        "print(s.find('pa'))\n",
        "\n",
        "#colocar em maiusculas\n",
        "print(s.upper())\n",
        "\n",
        "#colocar em minusculas\n",
        "print(s.lower())\n",
        "\n",
        "#substituir um trecho, exemplo, pa por ma\n",
        "print(s.replace('pa','ma'))\n",
        "#para substitutir permanentemente, teria que acontecer\n",
        "#uma operação de atribuição\n",
        "#s = s.replace('pa','ma')\n",
        "print(s)"
      ],
      "metadata": {
        "colab": {
          "base_uri": "https://localhost:8080/"
        },
        "id": "qUQSY4vbzUtJ",
        "outputId": "c21a90a8-4f3e-4045-dd41-e975aa979581"
      },
      "execution_count": 2,
      "outputs": [
        {
          "output_type": "stream",
          "name": "stdout",
          "text": [
            "False\n",
            "True\n",
            "False\n",
            "True\n",
            "s\n",
            "pa\n",
            "spa\n",
            "sp\n",
            "spamxyz\n",
            "1\n",
            "SPAM\n",
            "spam\n",
            "smam\n",
            "spam\n"
          ]
        }
      ]
    },
    {
      "cell_type": "code",
      "source": [
        "l = [123, 'casa', 3.14]\n",
        "print(type(l))\n",
        "print(dir(l))\n",
        ""
      ],
      "metadata": {
        "colab": {
          "base_uri": "https://localhost:8080/"
        },
        "id": "miWc-U04zZBI",
        "outputId": "9956dd2f-1818-4fae-dbec-cf163f435926"
      },
      "execution_count": 3,
      "outputs": [
        {
          "output_type": "stream",
          "name": "stdout",
          "text": [
            "<class 'list'>\n",
            "['__add__', '__class__', '__class_getitem__', '__contains__', '__delattr__', '__delitem__', '__dir__', '__doc__', '__eq__', '__format__', '__ge__', '__getattribute__', '__getitem__', '__gt__', '__hash__', '__iadd__', '__imul__', '__init__', '__init_subclass__', '__iter__', '__le__', '__len__', '__lt__', '__mul__', '__ne__', '__new__', '__reduce__', '__reduce_ex__', '__repr__', '__reversed__', '__rmul__', '__setattr__', '__setitem__', '__sizeof__', '__str__', '__subclasshook__', 'append', 'clear', 'copy', 'count', 'extend', 'index', 'insert', 'pop', 'remove', 'reverse', 'sort']\n"
          ]
        }
      ]
    },
    {
      "cell_type": "code",
      "source": [
        "print(len(l))\n",
        "print(l[2])\n",
        "#duplicar a lista\n",
        "print(l*2)\n",
        "#Adicionar um item a lista\n",
        "l.append('bola')\n",
        "print(l)"
      ],
      "metadata": {
        "colab": {
          "base_uri": "https://localhost:8080/"
        },
        "id": "kVOReLqmzdAI",
        "outputId": "f240c5cd-33c5-4c3a-8f68-28f2a783ebcc"
      },
      "execution_count": 4,
      "outputs": [
        {
          "output_type": "stream",
          "name": "stdout",
          "text": [
            "3\n",
            "3.14\n",
            "[123, 'casa', 3.14, 123, 'casa', 3.14]\n",
            "[123, 'casa', 3.14, 'bola']\n"
          ]
        }
      ]
    }
  ]
}