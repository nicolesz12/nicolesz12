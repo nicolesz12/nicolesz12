{
  "nbformat": 4,
  "nbformat_minor": 0,
  "metadata": {
    "colab": {
      "provenance": [],
      "authorship_tag": "ABX9TyN8tEU3pTRVbJsw2q+GlcUa",
      "include_colab_link": true
    },
    "kernelspec": {
      "name": "python3",
      "display_name": "Python 3"
    },
    "language_info": {
      "name": "python"
    }
  },
  "cells": [
    {
      "cell_type": "markdown",
      "metadata": {
        "id": "view-in-github",
        "colab_type": "text"
      },
      "source": [
        "<a href=\"https://colab.research.google.com/github/nicolesz12/nicolesz12/blob/main/14_matrizes_introducao.ipynb\" target=\"_parent\"><img src=\"https://colab.research.google.com/assets/colab-badge.svg\" alt=\"Open In Colab\"/></a>"
      ]
    },
    {
      "cell_type": "code",
      "execution_count": null,
      "metadata": {
        "colab": {
          "base_uri": "https://localhost:8080/"
        },
        "id": "cY2vuumV0FlD",
        "outputId": "34b7affa-72b0-44e3-9e39-5ebb9195bcf7"
      },
      "outputs": [
        {
          "output_type": "stream",
          "name": "stdout",
          "text": [
            "[1, 2, 3, 4, 5, 6]\n"
          ]
        }
      ],
      "source": [
        "M = [1,2,3,4,5,6] #(unidimensional)\n",
        "print(M)"
      ]
    },
    {
      "cell_type": "code",
      "source": [
        "M = [1,1,1], [1,1,1], [1,1,1]\n",
        "print(M)\n",
        "M = [[1]*3]*3 #bidimensional\n",
        "print(M)"
      ],
      "metadata": {
        "colab": {
          "base_uri": "https://localhost:8080/"
        },
        "id": "mMAvFhYE0U_2",
        "outputId": "3285f4c2-c892-4bbb-f68b-d0e24a9c0651"
      },
      "execution_count": null,
      "outputs": [
        {
          "output_type": "stream",
          "name": "stdout",
          "text": [
            "([1, 1, 1], [1, 1, 1], [1, 1, 1])\n",
            "[[1, 1, 1], [1, 1, 1], [1, 1, 1]]\n"
          ]
        }
      ]
    },
    {
      "cell_type": "code",
      "source": [
        "M = [ [1 for i in range(5)] ]\n",
        "print(M)"
      ],
      "metadata": {
        "id": "qElU9Xakkdi6",
        "outputId": "402100c9-70d4-4b87-a5ca-24fb60d87db6",
        "colab": {
          "base_uri": "https://localhost:8080/"
        }
      },
      "execution_count": 1,
      "outputs": [
        {
          "output_type": "stream",
          "name": "stdout",
          "text": [
            "[[1, 1, 1, 1, 1]]\n"
          ]
        }
      ]
    },
    {
      "cell_type": "code",
      "source": [
        "M = [ [1 for i in range(5)] for j in range(5) ]\n",
        "print(M)"
      ],
      "metadata": {
        "id": "2ItxNiYdkyLz",
        "outputId": "dadd8ac1-1e42-4f0d-fbde-1a940e269a08",
        "colab": {
          "base_uri": "https://localhost:8080/"
        }
      },
      "execution_count": 2,
      "outputs": [
        {
          "output_type": "stream",
          "name": "stdout",
          "text": [
            "[[1, 1, 1, 1, 1], [1, 1, 1, 1, 1], [1, 1, 1, 1, 1], [1, 1, 1, 1, 1], [1, 1, 1, 1, 1]]\n"
          ]
        }
      ]
    }
  ]
}