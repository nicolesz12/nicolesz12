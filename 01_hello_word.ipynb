{
  "nbformat": 4,
  "nbformat_minor": 0,
  "metadata": {
    "colab": {
      "provenance": [],
      "authorship_tag": "ABX9TyOCarLosKmYhPIclIW01qcu",
      "include_colab_link": true
    },
    "kernelspec": {
      "name": "python3",
      "display_name": "Python 3"
    },
    "language_info": {
      "name": "python"
    }
  },
  "cells": [
    {
      "cell_type": "markdown",
      "metadata": {
        "id": "view-in-github",
        "colab_type": "text"
      },
      "source": [
        "<a href=\"https://colab.research.google.com/github/nicolesz12/nicolesz12/blob/main/01_hello_word.ipynb\" target=\"_parent\"><img src=\"https://colab.research.google.com/assets/colab-badge.svg\" alt=\"Open In Colab\"/></a>"
      ]
    },
    {
      "cell_type": "markdown",
      "source": [
        "Meu primeiro progama"
      ],
      "metadata": {
        "id": "c92Qo4DBd9pJ"
      }
    },
    {
      "cell_type": "code",
      "source": [
        "#imprime \"hello, word\" na tela\n",
        "print (\"Hello Word\")"
      ],
      "metadata": {
        "colab": {
          "base_uri": "https://localhost:8080/"
        },
        "id": "pXmSa9Cff00Z",
        "outputId": "4c0b9498-ec5f-4b23-8b8a-1d97de05e0f1"
      },
      "execution_count": 6,
      "outputs": [
        {
          "output_type": "stream",
          "name": "stdout",
          "text": [
            "Hello Word\n"
          ]
        }
      ]
    },
    {
      "cell_type": "code",
      "source": [
        "#variáveis em Python\n",
        "\n",
        "#atribui a string \"hello, word\" a variavel message\n",
        "message = \"helo,word!\"\n",
        "#imprimir o conteúdo da variável message\n",
        "print (message)"
      ],
      "metadata": {
        "colab": {
          "base_uri": "https://localhost:8080/"
        },
        "id": "9uRzbLesozX8",
        "outputId": "247d5860-aa30-4b5e-d18d-fc6d5137617d"
      },
      "execution_count": 5,
      "outputs": [
        {
          "output_type": "stream",
          "name": "stdout",
          "text": [
            "helo,word!\n"
          ]
        }
      ]
    },
    {
      "cell_type": "code",
      "source": [
        "#entrada de dados do usuário\n",
        "#solicitar ao usuário que insira seu nome\n",
        "nome = input(\"qual o seu nome?\")\n",
        "print(\"olá, \" + nome + \"!\")"
      ],
      "metadata": {
        "colab": {
          "base_uri": "https://localhost:8080/"
        },
        "id": "S_nfTxkTpcBi",
        "outputId": "ff6ed746-7c05-4fd9-bd6b-791c68cb4ad0"
      },
      "execution_count": 12,
      "outputs": [
        {
          "output_type": "stream",
          "name": "stdout",
          "text": [
            "qual o seu nome?nicole\n",
            "olá, nicole!\n"
          ]
        }
      ]
    }
  ]
}