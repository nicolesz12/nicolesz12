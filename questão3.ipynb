{
  "nbformat": 4,
  "nbformat_minor": 0,
  "metadata": {
    "colab": {
      "provenance": [],
      "authorship_tag": "ABX9TyNKqwzsxK95h79nSri5V4mB",
      "include_colab_link": true
    },
    "kernelspec": {
      "name": "python3",
      "display_name": "Python 3"
    },
    "language_info": {
      "name": "python"
    }
  },
  "cells": [
    {
      "cell_type": "markdown",
      "metadata": {
        "id": "view-in-github",
        "colab_type": "text"
      },
      "source": [
        "<a href=\"https://colab.research.google.com/github/nicolesz12/nicolesz12/blob/main/quest%C3%A3o3.ipynb\" target=\"_parent\"><img src=\"https://colab.research.google.com/assets/colab-badge.svg\" alt=\"Open In Colab\"/></a>"
      ]
    },
    {
      "cell_type": "code",
      "execution_count": 3,
      "metadata": {
        "colab": {
          "base_uri": "https://localhost:8080/"
        },
        "id": "gG2CQuqOIgW6",
        "outputId": "b6cfdaa7-fbfa-45de-ed76-5b0a7f8ee14c"
      },
      "outputs": [
        {
          "output_type": "stream",
          "name": "stdout",
          "text": [
            "azuos\n"
          ]
        }
      ],
      "source": [
        "def inverter_string(s):\n",
        "    \"\"\"\n",
        "    Retorna a string `s` invertida.\n",
        "    Args:\n",
        "    s (str): A string a ser invertida.\n",
        "    Returns:\n",
        "    str: A string invertida.\n",
        "    \"\"\"\n",
        "    return s[::-1]\n",
        "exemplo = ('souza')\n",
        "string_invertida = inverter_string(exemplo)\n",
        "print(string_invertida)"
      ]
    }
  ]
}