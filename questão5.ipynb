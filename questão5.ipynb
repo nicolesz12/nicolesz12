{
  "nbformat": 4,
  "nbformat_minor": 0,
  "metadata": {
    "colab": {
      "provenance": [],
      "authorship_tag": "ABX9TyO4lP6dkEJI8D0Hh57Z3psP",
      "include_colab_link": true
    },
    "kernelspec": {
      "name": "python3",
      "display_name": "Python 3"
    },
    "language_info": {
      "name": "python"
    }
  },
  "cells": [
    {
      "cell_type": "markdown",
      "metadata": {
        "id": "view-in-github",
        "colab_type": "text"
      },
      "source": [
        "<a href=\"https://colab.research.google.com/github/nicolesz12/nicolesz12/blob/main/quest%C3%A3o5.ipynb\" target=\"_parent\"><img src=\"https://colab.research.google.com/assets/colab-badge.svg\" alt=\"Open In Colab\"/></a>"
      ]
    },
    {
      "cell_type": "code",
      "execution_count": null,
      "metadata": {
        "colab": {
          "base_uri": "https://localhost:8080/"
        },
        "id": "RnDxZn4qMRY7",
        "outputId": "34b7be58-0deb-4346-a88c-bf9481bd98b2"
      },
      "outputs": [
        {
          "output_type": "stream",
          "name": "stdout",
          "text": [
            "{'e': 3, 'x': 1, 'm': 1, 'p': 1, 'l': 1, 'o': 1, ' ': 2, 'd': 1, 's': 1, 't': 1, 'r': 1, 'i': 1, 'n': 1, 'g': 1}\n"
          ]
        }
      ],
      "source": [
        "def contar_caracteres(s):\n",
        "    \"\"\"\n",
        "    Conta a frequência de cada caractere na string `s`.\n",
        "\n",
        "    Args:\n",
        "    s (str): A string a ser analisada.\n",
        "\n",
        "    Returns:\n",
        "    dict: Um dicionário onde as chaves são os caracteres e os valores\n",
        "    são as contagens de cada caractere na string.\n",
        "    \"\"\"\n",
        "    contagem = {}\n",
        "    for caractere in s:\n",
        "        if caractere in contagem:\n",
        "            contagem[caractere] += 1\n",
        "        else:\n",
        "            contagem[caractere] = 1\n",
        "    return contagem\n",
        "\n",
        "resultado = contar_caracteres(\"exemplo de string\")\n",
        "print(resultado)"
      ]
    }
  ]
}