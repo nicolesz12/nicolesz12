{
  "nbformat": 4,
  "nbformat_minor": 0,
  "metadata": {
    "colab": {
      "provenance": [],
      "authorship_tag": "ABX9TyN5qipQ8ul/uP8J7O9o8g9r",
      "include_colab_link": true
    },
    "kernelspec": {
      "name": "python3",
      "display_name": "Python 3"
    },
    "language_info": {
      "name": "python"
    }
  },
  "cells": [
    {
      "cell_type": "markdown",
      "metadata": {
        "id": "view-in-github",
        "colab_type": "text"
      },
      "source": [
        "<a href=\"https://colab.research.google.com/github/nicolesz12/nicolesz12/blob/main/17_manipulando_arquivos.ipynb\" target=\"_parent\"><img src=\"https://colab.research.google.com/assets/colab-badge.svg\" alt=\"Open In Colab\"/></a>"
      ]
    },
    {
      "cell_type": "code",
      "execution_count": null,
      "metadata": {
        "id": "D3DG5rBqnLVA"
      },
      "outputs": [],
      "source": [
        "#TDD - O Test-Driven Development (TDD), ou Desenvolvimento Orientado a Testes, é uma metodologia de desenvolvimento de software que enfatiza a criação e execução de testes antes mesmo do desenvolvimento do código\n",
        "\n",
        "#progama para avaliar a saída de uma função dado uma entrada\n",
        "import random\n",
        "\n",
        "#esqueleto de uma função para gerar uma lista de 8 numeros aleatórios, entre 1 e 100\n",
        "def gerar_lista aleatória():\n",
        "  pass\n",
        "\n",
        "#esqueleto de uma função para gerar uma lista de 8 numeros aleatórios, entre 1 e 100\n",
        "def gerar_lista_distintos():\n",
        "    pass\n",
        "\n",
        "#esqueleto de uma função para embaralhar a lista\n",
        "def embaralhar_lista( ):\n",
        "  pass"
      ]
    }
  ]
}