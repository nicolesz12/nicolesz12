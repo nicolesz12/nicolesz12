{
  "nbformat": 4,
  "nbformat_minor": 0,
  "metadata": {
    "colab": {
      "provenance": [],
      "authorship_tag": "ABX9TyPkFRV5yaUNFgZOY8YO7xOl",
      "include_colab_link": true
    },
    "kernelspec": {
      "name": "python3",
      "display_name": "Python 3"
    },
    "language_info": {
      "name": "python"
    }
  },
  "cells": [
    {
      "cell_type": "markdown",
      "metadata": {
        "id": "view-in-github",
        "colab_type": "text"
      },
      "source": [
        "<a href=\"https://colab.research.google.com/github/nicolesz12/nicolesz12/blob/main/03_media_nota_ifrn.ipynb\" target=\"_parent\"><img src=\"https://colab.research.google.com/assets/colab-badge.svg\" alt=\"Open In Colab\"/></a>"
      ]
    },
    {
      "cell_type": "code",
      "execution_count": 2,
      "metadata": {
        "colab": {
          "base_uri": "https://localhost:8080/"
        },
        "id": "q2AGRCqChhlD",
        "outputId": "19768b02-b738-487c-e010-ce07b8393e4a"
      },
      "outputs": [
        {
          "output_type": "stream",
          "name": "stdout",
          "text": [
            "Calculadora de média ponderada do IFRN\n",
            "digite o número de alunos: 2\n",
            "\n",
            "Aluno 1:\n",
            "Digite a nota 1(com peso 2): 5\n",
            "Digite a nota 2(com peso 3): 7\n",
            "A média ponderada das notas é: 6.20\n",
            "aprovado\n",
            "\n",
            "Aluno 2:\n",
            "Digite a nota 1(com peso 2): 6.0\n",
            "Digite a nota 2(com peso 3): 7.0\n",
            "A média ponderada das notas é: 6.60\n",
            "aprovado\n"
          ]
        }
      ],
      "source": [
        "print(\"Calculadora de média ponderada do IFRN\")\n",
        "\n",
        "#perguntando, para quantos alunos, desejo calcular média\n",
        "num_alunos=int(input(\"digite o número de alunos: \"))\n",
        "\n",
        "for aluno in range(1, num_alunos+1):\n",
        "  #imprima o numero do aluno da vez:\n",
        "  print(f\"\\nAluno {aluno}:\")\n",
        "\n",
        "\n",
        "  #Float, tipagem explícita, para garantir número fracionário\n",
        "  n1 = float( input(\"Digite a nota 1(com peso 2): \") )\n",
        "  n2 = float( input(\"Digite a nota 2(com peso 3): \") )\n",
        "\n",
        "\n",
        "  #calculo de media ponderada\n",
        "  media = (n1 * 2 + n2 * 3) / 5\n",
        "\n",
        "  #impressão da média\n",
        "  print(f\"A média ponderada das notas é: {media:.2f}\")\n",
        "\n",
        "  #apresentar se o aluno foi aprovado ou não\n",
        "  if media >= 6:\n",
        "    print(\"aprovado\")\n",
        "  else:\n",
        "    if  n1>= 4 and n2>= 4:\n",
        "      print(\"prova final\")\n",
        "    else:\n",
        "        print(\"reprovado\")"
      ]
    }
  ]
}