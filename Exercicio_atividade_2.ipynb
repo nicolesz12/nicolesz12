{
  "nbformat": 4,
  "nbformat_minor": 0,
  "metadata": {
    "colab": {
      "provenance": [],
      "authorship_tag": "ABX9TyPS21FHnPfl3x8Mr+Pa9dpb",
      "include_colab_link": true
    },
    "kernelspec": {
      "name": "python3",
      "display_name": "Python 3"
    },
    "language_info": {
      "name": "python"
    }
  },
  "cells": [
    {
      "cell_type": "markdown",
      "metadata": {
        "id": "view-in-github",
        "colab_type": "text"
      },
      "source": [
        "<a href=\"https://colab.research.google.com/github/nicolesz12/nicolesz12/blob/main/Exercicio_atividade_2.ipynb\" target=\"_parent\"><img src=\"https://colab.research.google.com/assets/colab-badge.svg\" alt=\"Open In Colab\"/></a>"
      ]
    },
    {
      "cell_type": "code",
      "execution_count": 5,
      "metadata": {
        "colab": {
          "base_uri": "https://localhost:8080/"
        },
        "id": "QwXjIGe4ZiAA",
        "outputId": "d7d2f5bd-d887-43e3-e78e-57f9f37b11e6"
      },
      "outputs": [
        {
          "output_type": "stream",
          "name": "stdout",
          "text": [
            "Calculadora de média ponderada do IFRN\n",
            "Digite a nota 1(com peso 2): 5.0\n",
            "Digite a nota 2(com peso 3): 6.0\n",
            "A média ponderada das notas é: 5.60\n",
            "reprovado\n"
          ]
        }
      ],
      "source": [
        "print(\"Calculadora de média ponderada do IFRN\")\n",
        "#Float, tipagem explícita, para garantir número fracionário\n",
        "n1 = float( input(\"Digite a nota 1(com peso 2): \") )\n",
        "n2 = float( input(\"Digite a nota 2(com peso 3): \") )\n",
        "\n",
        "#calculo de media ponderada\n",
        "media = (n1 * 2 + n2 * 3) / 5\n",
        "\n",
        "#impressão da média\n",
        "print(f\"A média ponderada das notas é: {media:.2f}\")\n",
        "\n",
        "#apresentar se o aluno foi aprovado ou não\n",
        "if media >= 6:\n",
        "  print(\"aprovado\")\n",
        "else:\n",
        "    print(\"reprovado\")"
      ]
    },
    {
      "cell_type": "code",
      "source": [],
      "metadata": {
        "id": "7P1Hfe9obEv9"
      },
      "execution_count": null,
      "outputs": []
    }
  ]
}