{
  "nbformat": 4,
  "nbformat_minor": 0,
  "metadata": {
    "colab": {
      "provenance": [],
      "mount_file_id": "1cbEzVFuS3ZxQ02unjhV0YLGDp9MZL4gr",
      "authorship_tag": "ABX9TyMeu7KckiE+35zbHKzsIUfQ",
      "include_colab_link": true
    },
    "kernelspec": {
      "name": "python3",
      "display_name": "Python 3"
    },
    "language_info": {
      "name": "python"
    }
  },
  "cells": [
    {
      "cell_type": "markdown",
      "metadata": {
        "id": "view-in-github",
        "colab_type": "text"
      },
      "source": [
        "<a href=\"https://colab.research.google.com/github/nicolesz12/nicolesz12/blob/main/quest%C3%A3o4.ipynb\" target=\"_parent\"><img src=\"https://colab.research.google.com/assets/colab-badge.svg\" alt=\"Open In Colab\"/></a>"
      ]
    },
    {
      "cell_type": "code",
      "execution_count": null,
      "metadata": {
        "colab": {
          "base_uri": "https://localhost:8080/"
        },
        "id": "MfZiS8jVKypb",
        "outputId": "5dcb076e-4c2e-4a11-bcd4-223dfe402ec2"
      },
      "outputs": [
        {
          "output_type": "stream",
          "name": "stdout",
          "text": [
            "Conteúdo convertido e salvo em '/content/saida.txt' com sucesso.\n"
          ]
        }
      ],
      "source": [
        "def converter_para_maiusculas(arquivo_entrada, arquivo_saida):\n",
        "    \"\"\"\n",
        "    Converte o conteúdo do arquivo `arquivo_entrada` para maiúsculas\n",
        "    e salva o resultado em `arquivo_saida`.\n",
        "\n",
        "    Args:\n",
        "    arquivo_entrada (str): O caminho do arquivo de entrada.\n",
        "    arquivo_saida (str): O caminho do arquivo de saída onde o\n",
        "    conteúdo em maiúsculas será salvo.\n",
        "    \"\"\"\n",
        "    try:\n",
        "        # Abre o arquivo de entrada para leitura\n",
        "        with open(arquivo_entrada, 'r', encoding='utf-8') as entrada:\n",
        "            # Lê o conteúdo do arquivo\n",
        "            conteudo = entrada.read()\n",
        "\n",
        "        # Converte o conteúdo para maiúsculas\n",
        "        conteudo_maiusculas = conteudo.upper()\n",
        "\n",
        "        # Abre o arquivo de saída para escrita\n",
        "        with open(arquivo_saida, 'w', encoding='utf-8') as saida:\n",
        "            # Escreve o conteúdo em maiúsculas no arquivo de saída\n",
        "            saida.write(conteudo_maiusculas)\n",
        "\n",
        "        print(f\"Conteúdo convertido e salvo em '{arquivo_saida}' com sucesso.\")\n",
        "\n",
        "    except FileNotFoundError:\n",
        "        print(f\"Erro: O arquivo '{arquivo_entrada}' não foi encontrado.\")\n",
        "    except IOError as e:\n",
        "        print(f\"Erro ao ler ou escrever o arquivo: {e}\")\n",
        "\n",
        "# Exemplo de usoentrada.tx\n",
        "converter_para_maiusculas('/content/algoritimo.txt', '/content/saida.txt')\n"
      ]
    }
  ]
}