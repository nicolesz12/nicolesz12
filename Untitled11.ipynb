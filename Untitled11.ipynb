{
  "nbformat": 4,
  "nbformat_minor": 0,
  "metadata": {
    "colab": {
      "provenance": [],
      "authorship_tag": "ABX9TyPVnYEyjvXsz4eaLD1GjxCU",
      "include_colab_link": true
    },
    "kernelspec": {
      "name": "python3",
      "display_name": "Python 3"
    },
    "language_info": {
      "name": "python"
    }
  },
  "cells": [
    {
      "cell_type": "markdown",
      "metadata": {
        "id": "view-in-github",
        "colab_type": "text"
      },
      "source": [
        "<a href=\"https://colab.research.google.com/github/nicolesz12/nicolesz12/blob/main/Untitled11.ipynb\" target=\"_parent\"><img src=\"https://colab.research.google.com/assets/colab-badge.svg\" alt=\"Open In Colab\"/></a>"
      ]
    },
    {
      "cell_type": "markdown",
      "source": [
        "1-"
      ],
      "metadata": {
        "id": "2wkhHNt-O7Iq"
      }
    },
    {
      "cell_type": "code",
      "execution_count": 3,
      "metadata": {
        "colab": {
          "base_uri": "https://localhost:8080/"
        },
        "id": "8FvHxao7O1NK",
        "outputId": "3c288f29-40b1-4cf4-ddd1-5b64582a83ad"
      },
      "outputs": [
        {
          "output_type": "stream",
          "name": "stdout",
          "text": [
            "Digite um número inteiro:-1\n",
            "99\n"
          ]
        }
      ],
      "source": [
        "#leitura de num int\n",
        "var_1 = int(input('Digite um número inteiro:'))\n",
        "if var_1 < 0:\n",
        "    var_1+=100\n",
        "    print(var_1)\n",
        "else:\n",
        "    print(var_1)"
      ]
    },
    {
      "cell_type": "markdown",
      "source": [
        "2-"
      ],
      "metadata": {
        "id": "BOgdxu7NPPsL"
      }
    },
    {
      "cell_type": "code",
      "source": [
        "var_curso = input('1.Técnico em Informática\\n2.Técnico em Informática EJA\\n3.Técnico em Cooperativismo\\n4.Técnico em Cooperativismo EJA\\n5.Licenciatura em Física\\nDigite o código de curso desejado:')\n",
        "\n",
        "if int(var_curso) == 1:\n",
        "    print('Técnico em Informática')\n",
        "elif int(var_curso) == 2:\n",
        "    print('Técnico em Informática EJA')\n",
        "elif int(var_curso) == 3:\n",
        "    print('Técnico em Cooperativismo')\n",
        "elif int(var_curso) == 4:\n",
        "    print('Técnico em Cooperativismo EJA')\n",
        "elif int(var_curso) == 5:\n",
        "    print('Licenciatura em Física')\n",
        "else:\n",
        "    print('Digite um código de curso válido!')"
      ],
      "metadata": {
        "colab": {
          "base_uri": "https://localhost:8080/"
        },
        "id": "dCnrfekSPR_X",
        "outputId": "f81c8655-9f17-4ecb-a36e-df1f3faf3369"
      },
      "execution_count": 6,
      "outputs": [
        {
          "output_type": "stream",
          "name": "stdout",
          "text": [
            "1.Técnico em Informática\n",
            "2.Técnico em Informática EJA\n",
            "3.Técnico em Cooperativismo\n",
            "4.Técnico em Cooperativismo EJA\n",
            "5.Licenciatura em Física\n",
            "Digite o código de curso desejado:1\n",
            "Técnico em Informática\n"
          ]
        }
      ]
    },
    {
      "cell_type": "markdown",
      "source": [
        "3-"
      ],
      "metadata": {
        "id": "d64i9TapPgEz"
      }
    },
    {
      "cell_type": "code",
      "source": [
        "var_1 = input('Digite uma palavra:')\n",
        "var_2 = input('Digite outra palavra:')\n",
        "res1 = len(var_2)==len(var_1)\n",
        "res2 = var_1 == var_2\n",
        "print(f'string1:{var_1}')\n",
        "print(f'string2:{var_2}')\n",
        "\n",
        "print(f'Tamannho de \"{var_1}\": {len(var_1)} caracteres')\n",
        "\n",
        "print(f'Tamannho de \"{var_2}\": {len(var_2)} caracteres')\n",
        "\n",
        "\n",
        "if res1:\n",
        "    print('tem o mesmo comprimento')\n",
        "if res2:\n",
        "    print('mesmo conteúdo')\n",
        "# res1 ="
      ],
      "metadata": {
        "colab": {
          "base_uri": "https://localhost:8080/"
        },
        "id": "cWCgc8AfPhBr",
        "outputId": "25627c9f-4dd7-411c-e5ed-0e71fc6b7860"
      },
      "execution_count": 7,
      "outputs": [
        {
          "output_type": "stream",
          "name": "stdout",
          "text": [
            "Digite uma palavra:carne\n",
            "Digite outra palavra:arroz\n",
            "string1:carne\n",
            "string2:arroz\n",
            "Tamannho de \"carne\": 5 caracteres\n",
            "Tamannho de \"arroz\": 5 caracteres\n",
            "tem o mesmo comprimento\n"
          ]
        }
      ]
    },
    {
      "cell_type": "markdown",
      "source": [
        "4-"
      ],
      "metadata": {
        "id": "73fyZJ40P6Ao"
      }
    },
    {
      "cell_type": "code",
      "source": [
        "var_1 = input('Digite uma palavra:')\n",
        "print(var_1[2:-2:])"
      ],
      "metadata": {
        "colab": {
          "base_uri": "https://localhost:8080/"
        },
        "id": "j4HWn5ZgQAuA",
        "outputId": "aa499595-7631-4e28-fac8-604bb83c0c73"
      },
      "execution_count": 8,
      "outputs": [
        {
          "output_type": "stream",
          "name": "stdout",
          "text": [
            "Digite uma palavra:12345\n",
            "3\n"
          ]
        }
      ]
    }
  ]
}