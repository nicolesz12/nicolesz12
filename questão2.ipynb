{
  "nbformat": 4,
  "nbformat_minor": 0,
  "metadata": {
    "colab": {
      "provenance": [],
      "mount_file_id": "1XpAKMAq2k6KWlx3RDEDY0_GXIjJt_JFq",
      "authorship_tag": "ABX9TyOQv7FQANAMA3ZqZusf48+p",
      "include_colab_link": true
    },
    "kernelspec": {
      "name": "python3",
      "display_name": "Python 3"
    },
    "language_info": {
      "name": "python"
    }
  },
  "cells": [
    {
      "cell_type": "markdown",
      "metadata": {
        "id": "view-in-github",
        "colab_type": "text"
      },
      "source": [
        "<a href=\"https://colab.research.google.com/github/nicolesz12/nicolesz12/blob/main/quest%C3%A3o2.ipynb\" target=\"_parent\"><img src=\"https://colab.research.google.com/assets/colab-badge.svg\" alt=\"Open In Colab\"/></a>"
      ]
    },
    {
      "cell_type": "code",
      "execution_count": null,
      "metadata": {
        "colab": {
          "base_uri": "https://localhost:8080/"
        },
        "id": "3cnMfHuGFwDX",
        "outputId": "f1be83fb-9519-492a-8610-4ee938e7a45b"
      },
      "outputs": [
        {
          "output_type": "stream",
          "name": "stdout",
          "text": [
            "A palavra 'Nicole' aparece 0 vezes no arquivo.\n",
            "0\n"
          ]
        }
      ],
      "source": [
        "def contar_palavra(arquivo, palavra):\n",
        "    \"\"\"\n",
        "    Conta quantas vezes a palavra `palavra` aparece no arquivo `arquivo`.\n",
        "\n",
        "    Args:\n",
        "        arquivo (str): O caminho para o arquivo de texto.\n",
        "        palavra (str): A palavra a ser contada.\n",
        "\n",
        "    Returns:\n",
        "        int: O número de vezes que `palavra` aparece no arquivo.\n",
        "    \"\"\"\n",
        "\n",
        "    with open(arquivo, 'r', encoding='utf-8') as f:\n",
        "        conteudo = f.read()\n",
        "\n",
        "    # Contamos as ocorrências da palavra\n",
        "    return conteudo.lower().split().count(palavra.lower())\n",
        "\n",
        "    # Exemplo de uso:\n",
        "resultado = (contar_palavra(\"/content/drive/MyDrive/alg_organizar/20.ipynb\", \"Nicole\"))\n",
        "print(f\"A palavra 'Nicole' aparece {resultado} vezes no arquivo.\")\n",
        "print(resultado)"
      ]
    }
  ]
}