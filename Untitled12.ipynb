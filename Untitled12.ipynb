{
  "nbformat": 4,
  "nbformat_minor": 0,
  "metadata": {
    "colab": {
      "provenance": [],
      "authorship_tag": "ABX9TyPfwmz9LrU+zxZbkWnR0jbj",
      "include_colab_link": true
    },
    "kernelspec": {
      "name": "python3",
      "display_name": "Python 3"
    },
    "language_info": {
      "name": "python"
    }
  },
  "cells": [
    {
      "cell_type": "markdown",
      "metadata": {
        "id": "view-in-github",
        "colab_type": "text"
      },
      "source": [
        "<a href=\"https://colab.research.google.com/github/nicolesz12/nicolesz12/blob/main/Untitled12.ipynb\" target=\"_parent\"><img src=\"https://colab.research.google.com/assets/colab-badge.svg\" alt=\"Open In Colab\"/></a>"
      ]
    },
    {
      "cell_type": "code",
      "execution_count": 11,
      "metadata": {
        "colab": {
          "base_uri": "https://localhost:8080/"
        },
        "id": "2ZxbfO8Jrxhp",
        "outputId": "1d461646-63cf-4e3a-df05-cccdf53d9b95"
      },
      "outputs": [
        {
          "output_type": "stream",
          "name": "stdout",
          "text": [
            "0\n",
            "2\n",
            "4\n",
            "6\n",
            "8\n",
            "10\n",
            "12\n",
            "14\n",
            "16\n",
            "18\n"
          ]
        }
      ],
      "source": [
        "for numero in range(20):\n",
        "  #print(numero)\n",
        "  if(numero% 2) == 0:\n",
        "    print(numero)"
      ]
    },
    {
      "cell_type": "code",
      "source": [
        "for fruta in [\"banana\", \"abacaxi\", \"laranja\"]:\n",
        "  print(\"eu gosto de comer \" + fruta + \"s!\")"
      ],
      "metadata": {
        "colab": {
          "base_uri": "https://localhost:8080/"
        },
        "id": "nFVMVTE6sBhe",
        "outputId": "8964b550-9369-4245-9c1e-0706ccde5848"
      },
      "execution_count": 3,
      "outputs": [
        {
          "output_type": "stream",
          "name": "stdout",
          "text": [
            "eu gosto de comer bananas!\n",
            "eu gosto de comer abacaxis!\n",
            "eu gosto de comer laranjas!\n"
          ]
        }
      ]
    },
    {
      "cell_type": "code",
      "source": [
        "#operações com listas\n",
        "\n",
        "#concatenção\n",
        "a=[1,2,3]\n",
        "b=[4,5,6]\n",
        "c=a+b\n",
        "print(c)"
      ],
      "metadata": {
        "colab": {
          "base_uri": "https://localhost:8080/"
        },
        "id": "ZSmaKKQnssoj",
        "outputId": "ba5593ce-19ee-479c-d212-a87b41c8cc14"
      },
      "execution_count": 4,
      "outputs": [
        {
          "output_type": "stream",
          "name": "stdout",
          "text": [
            "[1, 2, 3, 4, 5, 6]\n"
          ]
        }
      ]
    },
    {
      "cell_type": "code",
      "source": [
        "#repetição\n",
        "d = [0] * 4\n",
        "print(d)\n",
        "\n",
        "e = [1,2,3] * 3\n",
        "print(e)"
      ],
      "metadata": {
        "colab": {
          "base_uri": "https://localhost:8080/"
        },
        "id": "Dptl_fBcs97G",
        "outputId": "e1530c37-1e8a-47f9-8da6-0b6ead634578"
      },
      "execution_count": 5,
      "outputs": [
        {
          "output_type": "stream",
          "name": "stdout",
          "text": [
            "[0, 0, 0, 0]\n",
            "[1, 2, 3, 1, 2, 3, 1, 2, 3]\n"
          ]
        }
      ]
    },
    {
      "cell_type": "code",
      "source": [
        "#slicing ou fatiamento de uma lista\n",
        "lista = [ 'a', 'b', 'c', 'd', 'e', 'f']\n",
        "print(lista[1:3])\n",
        "print(lista[:4])\n",
        "print(lista[3:])\n",
        "print(lista[:])"
      ],
      "metadata": {
        "colab": {
          "base_uri": "https://localhost:8080/"
        },
        "id": "b8bjfM4ZtXu1",
        "outputId": "501b399b-3a76-4236-c1ff-283a2d54db1b"
      },
      "execution_count": 7,
      "outputs": [
        {
          "output_type": "stream",
          "name": "stdout",
          "text": [
            "['b', 'c']\n",
            "['a', 'b', 'c', 'd']\n",
            "['d', 'e', 'f']\n",
            "['a', 'b', 'c', 'd', 'e', 'f']\n"
          ]
        }
      ]
    },
    {
      "cell_type": "code",
      "source": [
        "a = ['um', 'dois', 'três']\n",
        "print(a)\n",
        "del a[1]\n",
        "print(a)"
      ],
      "metadata": {
        "colab": {
          "base_uri": "https://localhost:8080/"
        },
        "id": "rf832K3EuFdW",
        "outputId": "368cabf7-2d5d-451a-fd63-fa9bfb2c2e10"
      },
      "execution_count": 10,
      "outputs": [
        {
          "output_type": "stream",
          "name": "stdout",
          "text": [
            "['um', 'dois', 'três']\n",
            "['um', 'três']\n"
          ]
        }
      ]
    },
    {
      "cell_type": "code",
      "source": [
        "lista = ['a','b','c','d','e','f']\n",
        "print(lista)\n",
        "del lista[1:5]\n",
        "print(lista)"
      ],
      "metadata": {
        "colab": {
          "base_uri": "https://localhost:8080/"
        },
        "id": "lsPRCBQYzVHb",
        "outputId": "707fc9c0-a932-4cdb-babb-b85371f0433d"
      },
      "execution_count": 13,
      "outputs": [
        {
          "output_type": "stream",
          "name": "stdout",
          "text": [
            "['a', 'b', 'c', 'd', 'e', 'f']\n",
            "['a', 'f']\n"
          ]
        }
      ]
    },
    {
      "cell_type": "code",
      "source": [
        "#clonagem de listas\n",
        "#Clonagem de listas\n",
        "\n",
        "a = [1,2,3]\n",
        "b=a #referencia\n",
        "print(b)\n",
        "b[0]=5\n",
        "print(b)\n",
        "print(a)\n",
        "\n",
        "#clonar\n",
        "a = [1,2,3]\n",
        "b = a[:]\n",
        "print(b)\n",
        "b[0]=5\n",
        "print(b)\n",
        "print(a)"
      ],
      "metadata": {
        "colab": {
          "base_uri": "https://localhost:8080/"
        },
        "id": "pwGfDTYvyE1J",
        "outputId": "70d07b36-9173-4b97-c95e-ab66b8cc4de0"
      },
      "execution_count": 12,
      "outputs": [
        {
          "output_type": "stream",
          "name": "stdout",
          "text": [
            "[1, 2, 3]\n",
            "[5, 2, 3]\n",
            "[5, 2, 3]\n",
            "[1, 2, 3]\n",
            "[5, 2, 3]\n",
            "[1, 2, 3]\n"
          ]
        }
      ]
    }
  ]
}