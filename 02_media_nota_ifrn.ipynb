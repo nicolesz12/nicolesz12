{
  "nbformat": 4,
  "nbformat_minor": 0,
  "metadata": {
    "colab": {
      "provenance": [],
      "authorship_tag": "ABX9TyPs3knk1kX4xTMzOqQXiF6t",
      "include_colab_link": true
    },
    "kernelspec": {
      "name": "python3",
      "display_name": "Python 3"
    },
    "language_info": {
      "name": "python"
    }
  },
  "cells": [
    {
      "cell_type": "markdown",
      "metadata": {
        "id": "view-in-github",
        "colab_type": "text"
      },
      "source": [
        "<a href=\"https://colab.research.google.com/github/nicolesz12/nicolesz12/blob/main/02_media_nota_ifrn.ipynb\" target=\"_parent\"><img src=\"https://colab.research.google.com/assets/colab-badge.svg\" alt=\"Open In Colab\"/></a>"
      ]
    },
    {
      "cell_type": "markdown",
      "source": [
        "calculadora de média ponderada ifrn"
      ],
      "metadata": {
        "id": "GmLWewv7xUzP"
      }
    },
    {
      "cell_type": "code",
      "source": [
        "print(\"Calculadora de média ponderada do IFRN\")\n",
        "#Float, tipagem explícita, para garantir número fracionário\n",
        "n1 = float( input(\"Digite a nota 1(com peso 2): \") )\n",
        "n2 = float( input(\"Digite a nota 2(com peso 3): \") )\n",
        "\n",
        "#calculo de media ponderada\n",
        "media = (n1 * 2 + n2 * 3) / 5\n",
        "\n",
        "#impressão da média\n",
        "print(f\"A média ponderada das notas é: {media:.2f}\")\n",
        "\n",
        "#impressão da média\n",
        "print(f\"A média ponderada das notas é: {media:.3f}\")\n",
        "\n",
        "#impressão da média sem formatação\n",
        "print(\"A média ponderada das notas é: \", media)"
      ],
      "metadata": {
        "colab": {
          "base_uri": "https://localhost:8080/"
        },
        "id": "qxNLv_yLxcvm",
        "outputId": "e4300a1f-2b6a-4085-f0b9-1b30e7f9fce2"
      },
      "execution_count": 15,
      "outputs": [
        {
          "output_type": "stream",
          "name": "stdout",
          "text": [
            "Calculadora de média ponderada do IFRN\n",
            "Digite a nota 1(com peso 2): 5.6\n",
            "Digite a nota 2(com peso 3): 4.8\n",
            "A média ponderada das notas é: 5.12\n",
            "A média ponderada das notas é: 5.120\n",
            "A média ponderada das notas é:  5.119999999999999\n"
          ]
        }
      ]
    },
    {
      "cell_type": "code",
      "source": [
        "p"
      ],
      "metadata": {
        "id": "BE65ahgSyOO2"
      },
      "execution_count": null,
      "outputs": []
    }
  ]
}