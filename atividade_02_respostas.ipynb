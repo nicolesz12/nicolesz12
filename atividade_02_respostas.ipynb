{
  "nbformat": 4,
  "nbformat_minor": 0,
  "metadata": {
    "colab": {
      "provenance": [],
      "authorship_tag": "ABX9TyONt1PvMXBZD/0gOBPH1Q5G",
      "include_colab_link": true
    },
    "kernelspec": {
      "name": "python3",
      "display_name": "Python 3"
    },
    "language_info": {
      "name": "python"
    }
  },
  "cells": [
    {
      "cell_type": "markdown",
      "metadata": {
        "id": "view-in-github",
        "colab_type": "text"
      },
      "source": [
        "<a href=\"https://colab.research.google.com/github/nicolesz12/nicolesz12/blob/main/atividade_02_respostas.ipynb\" target=\"_parent\"><img src=\"https://colab.research.google.com/assets/colab-badge.svg\" alt=\"Open In Colab\"/></a>"
      ]
    },
    {
      "cell_type": "markdown",
      "source": [
        "Como você faria para garantir que as notas inseridas pelo usuário estejam dentro de um intervalo válido (por exemplo, entre 0 e 10)?"
      ],
      "metadata": {
        "id": "pFUyfnPcs8E_"
      }
    },
    {
      "cell_type": "code",
      "execution_count": 3,
      "metadata": {
        "colab": {
          "base_uri": "https://localhost:8080/"
        },
        "id": "qNx8TMIpsj91",
        "outputId": "f4c167fe-6c1f-4d89-f339-86144455b294"
      },
      "outputs": [
        {
          "output_type": "stream",
          "name": "stdout",
          "text": [
            "Digite a nota: 6\n",
            "Nota válida! A nota inserida está dentro do intervalo de 0 a 10.\n"
          ]
        }
      ],
      "source": [
        "def validar_nota(nota):\n",
        "    if nota >= 0 and nota <= 10:\n",
        "        return True\n",
        "    else:\n",
        "        return False\n",
        "\n",
        "nota_usuario = float(input(\"Digite a nota: \"))\n",
        "\n",
        "if validar_nota(nota_usuario):\n",
        "    print(\"Nota válida! A nota inserida está dentro do intervalo de 0 a 10.\")\n",
        "else:\n",
        "    print(\"Nota inválida! Por favor, insira uma nota entre 0 e 10.\")\n"
      ]
    },
    {
      "cell_type": "markdown",
      "source": [
        "Como você poderia permitir que o usuário personalize os pesos das notas, em vez de usar pesos fixos (por exemplo, permitir que o usuário defina o peso para cada nota inserida)?\n"
      ],
      "metadata": {
        "id": "ijTyiwgUs7AH"
      }
    },
    {
      "cell_type": "code",
      "source": [
        "def calcular_media_ponderada(notas, pesos):\n",
        "    if len(notas) != len(pesos):\n",
        "        return \"O número de notas e pesos deve ser o mesmo.\"\n",
        "\n",
        "    soma_notas = sum([nota * peso for nota, peso in zip(notas, pesos)])\n",
        "    soma_pesos = sum(pesos)\n",
        "\n",
        "    return soma_notas / soma_pesos\n",
        "\n",
        "num_notas = int(input(\"Digite o número de notas: \"))\n",
        "notas = []\n",
        "pesos = []\n",
        "\n",
        "for i in range(num_notas):\n",
        "    nota = float(input(f\"Digite a nota {i + 1}: \"))\n",
        "    peso = float(input(f\"Digite o peso para a nota {i + 1}: \"))\n",
        "\n",
        "    notas.append(nota)\n",
        "    pesos.append(peso)\n",
        "\n",
        "media_ponderada = calcular_media_ponderada(notas, pesos)\n",
        "\n",
        "if isinstance(media_ponderada, str):\n",
        "    print(media_ponderada)\n",
        "else:\n",
        "    print(f\"A média ponderada das notas é: {media_ponderada}\")\n"
      ],
      "metadata": {
        "id": "3ejxe7-JtVT2"
      },
      "execution_count": null,
      "outputs": []
    }
  ]
}