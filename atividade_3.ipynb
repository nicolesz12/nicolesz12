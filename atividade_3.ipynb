{
  "nbformat": 4,
  "nbformat_minor": 0,
  "metadata": {
    "colab": {
      "provenance": [],
      "authorship_tag": "ABX9TyNFR2FZaGeH8wlN1NCBGd33",
      "include_colab_link": true
    },
    "kernelspec": {
      "name": "python3",
      "display_name": "Python 3"
    },
    "language_info": {
      "name": "python"
    }
  },
  "cells": [
    {
      "cell_type": "markdown",
      "metadata": {
        "id": "view-in-github",
        "colab_type": "text"
      },
      "source": [
        "<a href=\"https://colab.research.google.com/github/nicolesz12/nicolesz12/blob/main/atividade_3.ipynb\" target=\"_parent\"><img src=\"https://colab.research.google.com/assets/colab-badge.svg\" alt=\"Open In Colab\"/></a>"
      ]
    },
    {
      "cell_type": "markdown",
      "source": [
        "questão 1-"
      ],
      "metadata": {
        "id": "Bxqft-jng1MK"
      }
    },
    {
      "cell_type": "code",
      "execution_count": null,
      "metadata": {
        "id": "rN6rIr9zg0a8"
      },
      "outputs": [],
      "source": [
        "def calcular_imc(peso, altura):\n",
        "    imc = peso / (altura ** 2)\n",
        "    return imc\n",
        "\n",
        "def classificar_imc(imc):\n",
        "    if imc < 18.5:\n",
        "        return \"Baixo peso\"\n",
        "    elif imc >= 18.5 and imc < 25:\n",
        "        return \"Peso normal\"\n",
        "    elif imc >= 25 and imc < 30:\n",
        "        return \"Sobrepeso\"\n",
        "    else:\n",
        "        return \"Obesidade\"\n",
        "\n",
        "peso = float(input(\"Digite seu peso em quilogramas: \"))\n",
        "altura = float(input(\"Digite sua altura em metros: \"))\n",
        "\n",
        "seu_imc = calcular_imc(peso, altura)\n",
        "classificacao = classificar_imc(seu_imc)\n",
        "\n",
        "print(f\"Seu IMC é {seu_imc:.2f}, o que significa que você está na faixa de: {classificacao}.\")"
      ]
    },
    {
      "cell_type": "markdown",
      "source": [
        "questão 2-"
      ],
      "metadata": {
        "id": "-ep4ORtlg9Hr"
      }
    },
    {
      "cell_type": "code",
      "source": [
        "# Verificador de Número Par ou Ímpar\n",
        "def verificar_par_impar(numero):\n",
        "    if numero % 2 == 0:\n",
        "        return \"par\"\n",
        "    else:\n",
        "        return \"ímpar\"\n",
        "\n",
        "numero = int(input(\"Digite um número inteiro: \"))\n",
        "resultado_par_impar = verificar_par_impar(numero)\n",
        "print(f\"O número {numero} é {resultado_par_impar}.\")"
      ],
      "metadata": {
        "id": "fvFVe-S6g_HX"
      },
      "execution_count": null,
      "outputs": []
    },
    {
      "cell_type": "markdown",
      "source": [
        "questão 3-"
      ],
      "metadata": {
        "id": "GQIwrXFehGQp"
      }
    },
    {
      "cell_type": "code",
      "source": [
        "# Conversor de Temperatura\n",
        "def converter_para_fahrenheit(celsius):\n",
        "    fahrenheit = celsius * 9/5 + 32\n",
        "    return fahrenheit\n",
        "\n",
        "temperatura_celsius = float(input(\"Digite uma temperatura em Celsius: \"))\n",
        "temperatura_fahrenheit = converter_para_fahrenheit(temperatura_celsius)\n",
        "print(f\"A temperatura de {temperatura_celsius}°C equivale a {temperatura_fahrenheit}°F em Fahrenheit.\")"
      ],
      "metadata": {
        "id": "i6a8grnEhIQn"
      },
      "execution_count": null,
      "outputs": []
    },
    {
      "cell_type": "markdown",
      "source": [
        "questão 4-"
      ],
      "metadata": {
        "id": "vDCmxAWWhPcU"
      }
    },
    {
      "cell_type": "code",
      "source": [
        "# Solicitando um número ao usuário\n",
        "numero = int(input(\"Digite um número: \"))\n",
        "\n",
        "# Exibindo a tabuada de multiplicação desse número de 1 a 10\n",
        "print(f\"Tabuada de multiplicação do número {numero}:\")\n",
        "for i in range(1, 11):\n",
        "    resultado = numero * i\n",
        "    print(f\"{numero} x {i} = {resultado}\")"
      ],
      "metadata": {
        "id": "-gWtdSzshRX-"
      },
      "execution_count": null,
      "outputs": []
    },
    {
      "cell_type": "markdown",
      "source": [
        "questão 5-"
      ],
      "metadata": {
        "id": "GcQ-bVyRjPXK"
      }
    },
    {
      "cell_type": "code",
      "source": [
        " Cálculo de Média Ponderada\n",
        "nota1 = float(input(\"Digite a primeira nota: \"))\n",
        "peso1 = float(input(\"Digite o peso da primeira nota: \"))\n",
        "nota2 = float(input(\"Digite a segunda nota: \"))\n",
        "peso2 = float(input(\"Digite o peso da segunda nota: \"))\n",
        "nota3 = float(input(\"Digite a terceira nota: \"))\n",
        "peso3 = float(input(\"Digite o peso da terceira nota: \"))\n",
        "\n",
        "media_ponderada = (nota1 * peso1 + nota2 * peso2 + nota3 * peso3) / (peso1 + peso2 + peso3)\n",
        "print(f\"A média ponderada das notas é: {media_ponderada:.2f}\")"
      ],
      "metadata": {
        "id": "4d_AxKMZjRMW"
      },
      "execution_count": null,
      "outputs": []
    },
    {
      "cell_type": "markdown",
      "source": [
        "questão 6-"
      ],
      "metadata": {
        "id": "mv0_j4A4jdxt"
      }
    },
    {
      "cell_type": "code",
      "source": [
        "# Verificador de Ano Bissexto\n",
        "def verificar_ano_bissexto(ano):\n",
        "    if (ano % 4 == 0 and ano % 100 != 0) or (ano % 400 == 0):\n",
        "        return True\n",
        "    else:\n",
        "        return False\n",
        "\n",
        "ano_verificacao = int(input(\"Digite um ano para verificar se é bissexto: \"))\n",
        "if verificar_ano_bissexto(ano_verificacao):\n",
        "    print(f\"O ano {ano_verificacao} é bissexto.\")\n",
        "else:\n",
        "    print(f\"O ano {ano_verificacao} não é bissexto.\")"
      ],
      "metadata": {
        "id": "jBoe0KL7jf10"
      },
      "execution_count": null,
      "outputs": []
    },
    {
      "cell_type": "markdown",
      "source": [
        "questão 7-"
      ],
      "metadata": {
        "id": "5fEANhMrjlfC"
      }
    },
    {
      "cell_type": "code",
      "source": [
        "# Contador de Vogais em uma String\n",
        "def contar_vogais(string):\n",
        "    vogais = \"aeiou\"\n",
        "    count = 0\n",
        "    for char in string:\n",
        "        if char.lower() in vogais:\n",
        "            count += 1\n",
        "    return count\n",
        "\n",
        "texto = input(\"Digite uma string para contar as vogais: \")\n",
        "numero_vogais = contar_vogais(texto)\n",
        "print(f\"O número de vogais na string é: {numero_vogais}\")"
      ],
      "metadata": {
        "id": "lznOoe9NjnIG"
      },
      "execution_count": null,
      "outputs": []
    },
    {
      "cell_type": "markdown",
      "source": [
        "questão 8-"
      ],
      "metadata": {
        "id": "xq09OL3sjrdb"
      }
    },
    {
      "cell_type": "code",
      "source": [
        "# Calculadora de Fatorial\n",
        "def calcular_fatorial(numero):\n",
        "    if numero == 0:\n",
        "        return 1\n",
        "    else:\n",
        "        return numero * calcular_fatorial(numero - 1)\n",
        "\n",
        "numero_fatorial = int(input(\"Digite um número inteiro positivo para calcular o fatorial: \"))\n",
        "resultado_fatorial = calcular_fatorial(numero_fatorial)\n",
        "print(f\"O fatorial de {numero_fatorial} é: {resultado_fatorial}\")"
      ],
      "metadata": {
        "id": "jQ2kij0fjtWY"
      },
      "execution_count": null,
      "outputs": []
    },
    {
      "cell_type": "markdown",
      "source": [
        "questão 9-"
      ],
      "metadata": {
        "id": "daOdgkeDjzO8"
      }
    },
    {
      "cell_type": "code",
      "source": [
        "# Soma dos Números Pares em um Intervalo\n",
        "def somar_pares_intervalo(inicio, fim):\n",
        "    soma = 0\n",
        "    for num in range(inicio, fim+1):\n",
        "        if num % 2 == 0:\n",
        "            soma += num\n",
        "    return soma\n",
        "\n",
        "inicio_intervalo = int(input(\"Digite o início do intervalo: \"))\n",
        "fim_intervalo = int(input(\"Digite o fim do intervalo: \"))\n",
        "soma_pares = somar_pares_intervalo(inicio_intervalo, fim_intervalo)\n",
        "print(f\"A soma dos números pares no intervalo é: {soma_pares}\")"
      ],
      "metadata": {
        "id": "GUVY286Wj1wJ"
      },
      "execution_count": null,
      "outputs": []
    },
    {
      "cell_type": "markdown",
      "source": [
        "questão 10-"
      ],
      "metadata": {
        "id": "GCa4DN0Oj98G"
      }
    },
    {
      "cell_type": "code",
      "source": [
        "# Verificador de Número Primo\n",
        "def verificar_primo(numero):\n",
        "    if numero < 2:\n",
        "        return False\n",
        "    for i in range(2, int(numero**0.5) + 1):\n",
        "        if numero % i == 0:\n",
        "            return False\n",
        "    return True\n",
        "\n",
        "numero_primo = int(input(\"Digite um número inteiro positivo para verificar se é primo: \"))\n",
        "if verificar_primo(numero_primo):\n",
        "    print(f\"O número {numero_primo} é primo.\")\n",
        "else:\n",
        "    print(f\"O número {numero_primo} não é primo.\")"
      ],
      "metadata": {
        "id": "_YcABD0zj_vZ"
      },
      "execution_count": null,
      "outputs": []
    }
  ]
}